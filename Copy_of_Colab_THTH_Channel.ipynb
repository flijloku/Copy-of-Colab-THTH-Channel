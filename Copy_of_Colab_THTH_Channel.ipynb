{
  "nbformat": 4,
  "nbformat_minor": 0,
  "metadata": {
    "colab": {
      "provenance": [],
      "collapsed_sections": [
        "zswaZuVzo2c4",
        "6QZv_rxS1Lw7",
        "e7rS8tbBIlEx",
        "G_-BmZ7TXpAb",
        "qnwTuJVmDXAT"
      ],
      "toc_visible": true,
      "include_colab_link": true
    },
    "kernelspec": {
      "name": "python3",
      "display_name": "Python 3"
    }
  },
  "cells": [
    {
      "cell_type": "markdown",
      "metadata": {
        "id": "view-in-github",
        "colab_type": "text"
      },
      "source": [
        "<a href=\"https://colab.research.google.com/github/flijloku/Copy-of-Colab-THTH-Channel/blob/main2/Copy_of_Colab_THTH_Channel.ipynb\" target=\"_parent\"><img src=\"https://colab.research.google.com/assets/colab-badge.svg\" alt=\"Open In Colab\"/></a>"
      ]
    },
    {
      "cell_type": "markdown",
      "source": [
        "# 📚 Follow me on Youtube for more: [TinHocThucHanh1984 channel](https://youtube.com/@tinhocthuchanh1984)"
      ],
      "metadata": {
        "id": "UXsk-vdF7y86"
      }
    },
    {
      "cell_type": "markdown",
      "metadata": {
        "id": "Fp3f8hKsn4yK"
      },
      "source": [
        "# Part 1️⃣: [Mount Google Drive in Google Colab](https://www.youtube.com/watch?v=6vbe7KeEtoE)"
      ]
    },
    {
      "cell_type": "code",
      "metadata": {
        "id": "6WKgYdToKFRz"
      },
      "source": [
        "from google.colab import drive\n",
        "drive.mount('drive')"
      ],
      "execution_count": null,
      "outputs": []
    },
    {
      "cell_type": "markdown",
      "metadata": {
        "id": "zswaZuVzo2c4"
      },
      "source": [
        "# Part 2️⃣: Mount OneDrive to Google Colab\n",
        "1.   Set Default browser\n",
        "2.   Sign into your OneDrive account\n",
        "3. Download Rclone: https://rclone.org/downloads/\n",
        "4. Unzip rclone.zip\n",
        "5. Open up the Terminal or the CMD from the start if you're using Windows and terminal if you're using MacOS or Linux\n",
        "- 5.1. Windows: Open CMD from start menu; Follow one command from video; ⬛      rclone.exe authorize \"onedrive\"\n",
        "- 5.2. Mac & Linux: Open Terminal; Follow one command from video; ⬛ sudo chmod +x rclone; ⬛ ./rclone authorize \"onedrive\"\n",
        "6. Now it will open up the link in your browser (you have to sign in into your microsoft)\n",
        "7. So you have successfully got the code in the cmd or terminal\n",
        "8. Download & Install Latest Setup in colab: https://rclone.org/downloads/\n",
        "\n",
        "\n"
      ]
    },
    {
      "cell_type": "code",
      "metadata": {
        "id": "cREdPRn91GyG"
      },
      "source": [
        "!wget https://downloads.rclone.org/v1.53.2/rclone-v1.53.2-linux-amd64.deb\n",
        "!apt install ./rclone-v1.53.2-linux-amd64.deb"
      ],
      "execution_count": null,
      "outputs": []
    },
    {
      "cell_type": "markdown",
      "metadata": {
        "id": "wSLAXZv62a2w"
      },
      "source": [
        "9. Authenticate One Drive\n",
        "\n",
        "\n",
        "*   Type: n\n",
        "*   Type the name: OneDrive\n",
        "* Type 23 (onedrive is listed it's in the number 23)\n",
        "* Now press Enter, Enter again two times\n",
        "* Type: n\n",
        "* Now you have to paste the code copy from CMD or Terminal\n",
        "* You have to choose the number 1\n",
        "* Type: 0 (We have the drive listed here)\n",
        "* Type: y\n",
        "* Type: q\n",
        "\n"
      ]
    },
    {
      "cell_type": "code",
      "metadata": {
        "id": "zEZolZna2kjO"
      },
      "source": [
        "!rclone config"
      ],
      "execution_count": null,
      "outputs": []
    },
    {
      "cell_type": "markdown",
      "metadata": {
        "id": "fqqHftaN5i6S"
      },
      "source": [
        "10. Mount OneDrive"
      ]
    },
    {
      "cell_type": "code",
      "metadata": {
        "id": "YytxkGaL5rYC"
      },
      "source": [
        "!sudo mkdir /content/onedrive\n",
        "!nohup rclone --vfs-cache-mode writes mount onedrive: /content/onedrive &"
      ],
      "execution_count": null,
      "outputs": []
    },
    {
      "cell_type": "markdown",
      "metadata": {
        "id": "6QZv_rxS1Lw7"
      },
      "source": [
        "# Part 3️⃣: Mount Mega in Google Colab"
      ]
    },
    {
      "cell_type": "markdown",
      "metadata": {
        "id": "RbxRSXQx8adl"
      },
      "source": [
        "1. Download & Install Latest Setup in colab: https://rclone.org/downloads/"
      ]
    },
    {
      "cell_type": "code",
      "metadata": {
        "id": "Cr7a2SVi9J5C"
      },
      "source": [
        "!wget https://downloads.rclone.org/v1.53.2/rclone-v1.53.2-linux-amd64.deb\n",
        "!apt install ./rclone-v1.53.2-linux-amd64.deb"
      ],
      "execution_count": null,
      "outputs": []
    },
    {
      "cell_type": "markdown",
      "metadata": {
        "id": "VShOEc4T9DeB"
      },
      "source": [
        "2. Authenticate Mega\n",
        "*   Type: n  (New Remote)\n",
        "*   Type the name: Mega\n",
        "* Type 21 (Mega is listed it's in the number 21)\n",
        "* Type email@gmail (User name)\n",
        "* Type: y (Yes type in my own password)\n",
        "* Enter the password:\n",
        "* Type: n (Edit advanced config?)\n",
        "* Type: y (Yes this is OK (default))\n",
        "* Type: q (Quit config)"
      ]
    },
    {
      "cell_type": "code",
      "metadata": {
        "id": "SjV6FHP69Ptl"
      },
      "source": [
        "!rclone config"
      ],
      "execution_count": null,
      "outputs": []
    },
    {
      "cell_type": "markdown",
      "metadata": {
        "id": "4K0rXGXyA50_"
      },
      "source": [
        "3. Mount Mega"
      ]
    },
    {
      "cell_type": "code",
      "metadata": {
        "id": "jyrS6_zKA_XT"
      },
      "source": [
        "!sudo mkdir /content/mega\n",
        "!nohup rclone --vfs-cache-mode writes mount mega: /content/mega &"
      ],
      "execution_count": null,
      "outputs": []
    },
    {
      "cell_type": "markdown",
      "metadata": {
        "id": "e7rS8tbBIlEx"
      },
      "source": [
        "# Part 4️⃣: Mount Dropbox in Google Colab\n",
        "1.   Sign into your Dropbox account\n",
        "2. Open up the Terminal or the CMD from the start if you're using Windows and terminal if you're using MacOS or Linux\n",
        "- 2.1. Windows: Open CMD from start menu; Follow one command from video; ⬛      rclone authorize \"dropbox\"\n",
        "- 2.2. Mac & Linux: Open Terminal; Follow one command from video; ⬛ sudo chmod +x rclone; ⬛ ./rclone authorize \"onedrive\"\n",
        "3. Now it will open up the link in your browser (you have to sign in into your Dropbox)\n",
        "4. So you have successfully got the code in the cmd or terminal\n",
        "5. Download & Install Latest Setup in colab: https://rclone.org/downloads/\n",
        "\n"
      ]
    },
    {
      "cell_type": "code",
      "metadata": {
        "id": "3tcK8e8CB7UR"
      },
      "source": [
        "!wget https://downloads.rclone.org/v1.53.2/rclone-v1.53.2-linux-amd64.deb\n",
        "!apt install ./rclone-v1.53.2-linux-amd64.deb"
      ],
      "execution_count": null,
      "outputs": []
    },
    {
      "cell_type": "markdown",
      "metadata": {
        "id": "AwJKxLi2CP7j"
      },
      "source": [
        "6. Authenticate Dropbox\n",
        "\n",
        "\n",
        "*   Type: n\n",
        "*   Type the name: Dropbox\n",
        "* Type 23 (dropbox is listed it's in the number 23)\n",
        "* Now press Enter, Enter again two times\n",
        "* Type: n\n",
        "* Now you have to paste the code copy from CMD or Terminal\n",
        "* You have to choose the number 1\n",
        "* Type: 0 (We have the drive listed here)\n",
        "* Type: y\n",
        "* Type: q\n",
        "\n"
      ]
    },
    {
      "cell_type": "code",
      "metadata": {
        "id": "lgK6-kPfChVs"
      },
      "source": [
        "!rclone config"
      ],
      "execution_count": null,
      "outputs": []
    },
    {
      "cell_type": "markdown",
      "metadata": {
        "id": "lhtf-a9NCmgT"
      },
      "source": [
        "7. Mount Dropbox"
      ]
    },
    {
      "cell_type": "code",
      "metadata": {
        "id": "rZkXeesFC7K2"
      },
      "source": [
        "!sudo mkdir /content/drive\n",
        "!nohup rclone --vfs-cache-mode writes mount d: /content/drive &"
      ],
      "execution_count": null,
      "outputs": []
    },
    {
      "cell_type": "markdown",
      "metadata": {
        "id": "_DxA0oRXCQd2"
      },
      "source": [
        "# Part 🔟: Download link URL to Clouds"
      ]
    },
    {
      "cell_type": "code",
      "metadata": {
        "id": "GG0gRv1VVTd7"
      },
      "source": [
        "!sudo cp -v -r -n \"/content/drive2/Video Course RAR\" \"/content/drive/Shareddrives/Team Drive 2\""
      ],
      "execution_count": null,
      "outputs": []
    },
    {
      "cell_type": "code",
      "source": [
        "!bash <(curl -s 'https://raw.githubusercontent.com/alex2844/google-files-downloader/master/googleFilesDownloader.sh');"
      ],
      "metadata": {
        "id": "08Uxlt4MzOD1"
      },
      "execution_count": null,
      "outputs": []
    }
  ]
}